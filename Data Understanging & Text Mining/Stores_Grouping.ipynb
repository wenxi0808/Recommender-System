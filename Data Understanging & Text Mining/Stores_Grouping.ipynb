{
 "cells": [
  {
   "cell_type": "code",
   "execution_count": null,
   "metadata": {},
   "outputs": [],
   "source": [
    "# Are there natural groupings of stores, e.g., stores frequented by cherry-pickers versus stores visited by most loyal customers?"
   ]
  },
  {
   "cell_type": "code",
   "execution_count": null,
   "metadata": {},
   "outputs": [],
   "source": [
    "# Revised and optimized query\n",
    "QUERY = \"\"\"\n",
    "WITH product_filter AS (\n",
    "    SELECT *\n",
    "    FROM `machine_learning.products`\n",
    "    WHERE prod_category NOT IN (\"Gift Cards\", \"Other\", \"Front End Service\", \"Scanning Errors\", \"Customer Service-Misc\", \"Empties and Additionals\")\n",
    "),\n",
    "valid_transactions AS (\n",
    "    SELECT *\n",
    "    FROM `machine_learning.transactions` a \n",
    "    join product_filter b on a.prod_id  = b.prod_id \n",
    "    WHERE trans_dt < \"2020-03-01\"\n",
    "    AND a.prod_id IN (SELECT prod_id FROM product_filter)\n",
    "        AND \n",
    "        -- Logic 1: Either sales_qty or sales_wgt is zero, but not both\n",
    "        ((sales_qty = 0 AND sales_wgt <> 0) OR (sales_qty <> 0 AND sales_wgt = 0))\n",
    "        AND \n",
    "        -- Logics 2 and 3 are parallel conditions\n",
    "        (\n",
    "            (prod_category NOT IN (\"Coupon\", \"returns\") AND (sales_qty > 0 OR sales_wgt > 0))\n",
    "            OR\n",
    "            (prod_category IN (\"Coupon\", \"returns\") AND (sales_qty < 0 OR sales_wgt < 0))\n",
    "        )\n",
    "    AND sales_amt >= 0\n",
    "),\n",
    "transactions_per_day AS (\n",
    "    SELECT cust_id, trans_dt, COUNT(DISTINCT trans_id) AS trans_per_day\n",
    "    FROM valid_transactions\n",
    "    GROUP BY cust_id, trans_dt\n",
    "    HAVING trans_per_day <= 10\n",
    "),\n",
    "eligible_custs AS (\n",
    "    SELECT v.cust_id\n",
    "    FROM valid_transactions v\n",
    "    JOIN transactions_per_day tpd ON v.cust_id = tpd.cust_id AND v.trans_dt = tpd.trans_dt\n",
    "    GROUP BY v.cust_id\n",
    "    HAVING COUNT(DISTINCT v.trans_id) >= 5\n",
    "    AND COUNT(DISTINCT v.trans_dt) >= 5\n",
    "    AND COUNT(v.trans_id) <= 20000\n",
    "),\n",
    "sampled_custs AS (\n",
    "    SELECT cust_id\n",
    "    FROM eligible_custs\n",
    "    WHERE MOD(ABS(FARM_FINGERPRINT(CAST(cust_id AS STRING))), 1000) < 1\n",
    ")\n",
    "SELECT tx.*\n",
    "FROM `valid_transactions` tx\n",
    "JOIN sampled_custs ON tx.cust_id = sampled_custs.cust_id\n",
    "WHERE tx.trans_dt < \"2020-03-01\"\n",
    "\"\"\"\n",
    "\n",
    "# Execute the query\n",
    "query_job = client.query(QUERY)  # API request\n",
    "\n",
    "# Convert to DataFrame\n",
    "sample_transaction = query_job.to_dataframe()  # Waits for query to finish and converts it to DataFrame\n"
   ]
  },
  {
   "cell_type": "code",
   "execution_count": null,
   "metadata": {},
   "outputs": [],
   "source": [
    "# Load product and profit margin data\n",
    "product_profit_margin_df = pd.read_excel(\"C:/Users/ctlan/OneDrive/desktop/AI at Scale/HW/Product Category Profit Margin.xlsx\")\n",
    "\n",
    "# Merge with product_profit_margin to get profit margins\n",
    "merged_df = pd.merge(sample_transaction, product_profit_margin_df, on='prod_category', how='left')\n",
    "\n",
    "# Calculate profit for each transaction\n",
    "merged_df['profit'] = merged_df['sales_amt'] * merged_df['profit_margin']"
   ]
  },
  {
   "cell_type": "markdown",
   "metadata": {},
   "source": [
    "## store clusering"
   ]
  },
  {
   "cell_type": "code",
   "execution_count": null,
   "metadata": {},
   "outputs": [],
   "source": [
    "import numpy as np\n",
    "import pandas as pd\n",
    "import matplotlib.pyplot as plt\n",
    "\n",
    "# Assuming sample_transaction is a DataFrame that's already been loaded with all the columns provided.\n",
    "\n",
    "# First, we'll calculate the proportion of transactions for each store_id that are for the product category 'Coupons'.\n",
    "# 1. Mark each transaction whether it is for Coupons\n",
    "sample_transaction['is_coupon'] = (sample_transaction['prod_category'] == 'Coupons').astype(int)\n",
    "\n",
    "# 2. For each store_id, calculate the total number of transactions and the number of transactions for Coupons\n",
    "store_transactions_summary = sample_transaction.groupby('store_id').agg(\n",
    "    total_transactions=('trans_id', 'nunique'),  # Calculate the unique number of transactions per store\n",
    "    coupons_transactions=('is_coupon', 'sum')  # Calculate the number of transactions for Coupons\n",
    ")\n",
    "\n",
    "# 3. Calculate the proportion of Coupons transactions for each store_id\n",
    "store_transactions_summary['coupons_ratio'] = store_transactions_summary['coupons_transactions'] / store_transactions_summary['total_transactions']\n",
    "\n",
    "# 4. Plot a histogram showing the distribution of the Coupons transaction ratio per store, with the y-axis representing the proportion of stores\n",
    "# Calculate the histogram\n",
    "counts, bins = np.histogram(store_transactions_summary['coupons_ratio'], bins=np.arange(0, 1.05, 0.05))\n",
    "\n",
    "# Convert counts to proportions\n",
    "counts = counts / counts.sum()\n",
    "\n",
    "# Plot the histogram\n",
    "plt.bar(bins[:-1], counts, width=0.05, align='edge', edgecolor='black')\n",
    "plt.xlabel('Coupons Transaction Ratio')\n",
    "plt.ylabel('Proportion of Stores')\n",
    "plt.title('Distribution of Coupons Transaction Ratio per Store')\n",
    "plt.xticks(np.arange(0, 1.1, 0.1))\n",
    "plt.show()\n"
   ]
  },
  {
   "cell_type": "code",
   "execution_count": null,
   "metadata": {},
   "outputs": [],
   "source": [
    "# Calculate the proportion of stores with a coupons transaction ratio greater than 0.3\n",
    "proportion_above_03 = (store_transactions_summary['coupons_ratio'] > 0.3).mean()\n",
    "\n",
    "print(f\"Proportion of stores with a coupons transaction ratio greater than 0.3: {proportion_above_03:.2%}\")\n"
   ]
  },
  {
   "cell_type": "code",
   "execution_count": null,
   "metadata": {},
   "outputs": [],
   "source": [
    "# Filter the stores with a coupons transaction ratio greater than 0.3\n",
    "filtered_stores = store_transactions_summary[store_transactions_summary['coupons_ratio'] > 0.3]\n",
    "\n",
    "# Sort these stores in descending order by the coupons transaction ratio\n",
    "sorted_stores = filtered_stores.sort_values(by='coupons_ratio', ascending=False)\n",
    "\n",
    "# Display the sorted DataFrame with store_ids and their respective coupons transaction ratio\n",
    "sorted_stores_df = sorted_stores[['coupons_ratio']]\n",
    "sorted_stores_df"
   ]
  },
  {
   "cell_type": "code",
   "execution_count": null,
   "metadata": {},
   "outputs": [],
   "source": [
    "### loyal store \n",
    "\n",
    "# Step 1: Filter transactions to identify those by loyal customers\n",
    "loyal_customers = sample_transaction[sample_transaction['cust_id'].apply(lambda x: len(str(x)) == 10)]\n",
    "\n",
    "# Step 2: Calculate total and loyal customer visits per store\n",
    "total_visits_per_store = sample_transaction.groupby('store_id')['cust_id'].nunique()\n",
    "loyal_visits_per_store = loyal_customers.groupby('store_id')['cust_id'].nunique()\n",
    "\n",
    "# Step 3: Calculate the proportion of loyal customer visits per store\n",
    "proportion_loyal_visits = (loyal_visits_per_store / total_visits_per_store).fillna(0)\n",
    "\n",
    "# Convert to DataFrame for easier handling and plotting\n",
    "proportion_loyal_visits_df = proportion_loyal_visits.reset_index()\n",
    "proportion_loyal_visits_df.columns = ['store_id', 'loyal_customer_proportion']\n",
    "\n",
    "# Sort by proportion for better visualization\n",
    "proportion_loyal_visits_df_sorted = proportion_loyal_visits_df.sort_values(by='loyal_customer_proportion', ascending=False)\n",
    "\n",
    "# Step 4: Plotting the bar chart\n",
    "plt.figure(figsize=(10, 6))\n",
    "plt.bar(proportion_loyal_visits_df_sorted['store_id'].astype(str), proportion_loyal_visits_df_sorted['loyal_customer_proportion'], color='skyblue')\n",
    "plt.xlabel('Store ID')\n",
    "plt.ylabel('Proportion of Loyal Customers')\n",
    "plt.title('Proportion of Loyal Customers by Store')\n",
    "plt.xticks(rotation=90)  # Rotate store IDs for better readability\n",
    "plt.show()"
   ]
  },
  {
   "cell_type": "code",
   "execution_count": null,
   "metadata": {},
   "outputs": [],
   "source": [
    "\n",
    "# Select the top 10 stores with the highest proportion of loyal customer visits\n",
    "top_10_stores_by_loyal_customers = sorted_df_by_loyal_customers.head(10)\n",
    "\n",
    "top_10_stores_by_loyal_customers"
   ]
  }
 ],
 "metadata": {
  "kernelspec": {
   "display_name": "Python 3 (ipykernel)",
   "language": "python",
   "name": "python3"
  },
  "language_info": {
   "codemirror_mode": {
    "name": "ipython",
    "version": 3
   },
   "file_extension": ".py",
   "mimetype": "text/x-python",
   "name": "python",
   "nbconvert_exporter": "python",
   "pygments_lexer": "ipython3",
   "version": "3.10.13"
  }
 },
 "nbformat": 4,
 "nbformat_minor": 4
}
