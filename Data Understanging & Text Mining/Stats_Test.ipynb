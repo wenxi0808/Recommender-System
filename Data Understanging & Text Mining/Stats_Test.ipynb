{
 "cells": [
  {
   "cell_type": "markdown",
   "id": "1b0be59e-e3c3-4498-8ba1-fa895e007b64",
   "metadata": {},
   "source": [
    "### T-test to check distribution"
   ]
  },
  {
   "cell_type": "code",
   "execution_count": null,
   "id": "744a1195-9742-4b63-a75c-9d7e69a9f308",
   "metadata": {},
   "outputs": [],
   "source": [
    "from statsmodels.stats.proportion import proportions_ztest\n",
    "import pandas as pd\n",
    "\n",
    "# Create a DataFrame with the provided data\n",
    "data = {\n",
    "    'Category': ['Never Use Coupon', 'Buy 1-3 Categories', 'Buy 50+ Categories'],\n",
    "    'Customer Count Proportion 0.1%': [0.484003, 0.013765, 0.083333],\n",
    "    'Profit Proportion 0.1%': [0.146583, 0.003421, 0.451492],\n",
    "    'Customer Count Proportion 0.5%': [0.489452, 0.012824, 0.075960],\n",
    "    'Profit Proportion 0.5%': [0.142310, 0.002219, 0.443786]\n",
    "}\n",
    "\n",
    "df = pd.DataFrame(data)\n",
    "\n",
    "# We need to assume a total number of customers to convert proportions to counts\n",
    "# Let's assume there are 1000 customers in each group for demonstration purposes\n",
    "n_customers = 1000\n",
    "\n",
    "# Calculate the observed counts of customers from the proportions\n",
    "df['Customer Count 0.1%'] = df['Customer Count Proportion 0.1%'] * n_customers\n",
    "df['Customer Count 0.5%'] = df['Customer Count Proportion 0.5%'] * n_customers\n",
    "\n",
    "# Extract the counts for the category 'Buy 50+ Categories' to perform the z-test\n",
    "count = df.loc[df['Category'] == 'Buy 50+ Categories', ['Customer Count 0.1%', 'Customer Count 0.5%']].values.flatten()\n",
    "nobs = [n_customers, n_customers]  # The number of observations in each sample\n",
    "\n",
    "# Perform the two-proportion z-test\n",
    "stat, pval = proportions_ztest(count, nobs)\n",
    "\n",
    "stat, pval\n"
   ]
  },
  {
   "cell_type": "code",
   "execution_count": null,
   "id": "993815a3-feb9-49f4-bbc4-c82fc8a2a100",
   "metadata": {},
   "outputs": [],
   "source": [
    "# Initialize a list to hold the z-test results\n",
    "ztest_results = []\n",
    "\n",
    "# There are three comparisons to make:\n",
    "# 1. Never Use Coupon\n",
    "# 2. Buy 1-3 Categories\n",
    "# 3. Buy 50+ Categories\n",
    "\n",
    "# Loop through each category to perform the z-tests\n",
    "for category in df['Category']:\n",
    "    # Extract the counts for the current category to perform the z-test\n",
    "    count = df.loc[df['Category'] == category, ['Customer Count 0.1%', 'Customer Count 0.5%']].values.flatten()\n",
    "    \n",
    "    # Perform the two-proportion z-test\n",
    "    stat, pval = proportions_ztest(count, nobs)\n",
    "    \n",
    "    # Append the results to our list\n",
    "    ztest_results.append((category, stat, pval))\n",
    "\n",
    "# Convert the z-test results to a DataFrame\n",
    "output_df = pd.DataFrame(ztest_results, columns=['Category', 'Z-Score', 'P-Value'])\n",
    "\n",
    "output_df\n"
   ]
  }
 ],
 "metadata": {
  "kernelspec": {
   "display_name": "Python 3 (ipykernel)",
   "language": "python",
   "name": "python3"
  },
  "language_info": {
   "codemirror_mode": {
    "name": "ipython",
    "version": 3
   },
   "file_extension": ".py",
   "mimetype": "text/x-python",
   "name": "python",
   "nbconvert_exporter": "python",
   "pygments_lexer": "ipython3",
   "version": "3.10.13"
  }
 },
 "nbformat": 4,
 "nbformat_minor": 5
}
